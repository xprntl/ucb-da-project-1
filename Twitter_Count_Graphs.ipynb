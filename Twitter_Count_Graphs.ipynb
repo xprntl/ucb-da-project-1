{
 "cells": [
  {
   "cell_type": "code",
   "execution_count": null,
   "metadata": {
    "collapsed": true
   },
   "outputs": [],
   "source": [
    "#This program plots a bar graph of ICO Campaigns vs Number of tweets for each campaign, while the campaign was active.\n",
    "#It also saves the bar graph into a png file titled \"ICOvsNoOfTweets.png\".\n",
    "#The input file \"Tweet_Counts.csv\" which holds the names of the ico campaign and tweet coumts for each, should reside in\n",
    "#in the same folder as this program."
   ]
  },
  {
   "cell_type": "code",
   "execution_count": 82,
   "metadata": {
    "collapsed": true
   },
   "outputs": [],
   "source": [
    "import matplotlib.pyplot as plt\n",
    "import seaborn\n",
    "import pandas as pd\n",
    "import numpy as np"
   ]
  },
  {
   "cell_type": "code",
   "execution_count": 83,
   "metadata": {
    "collapsed": false
   },
   "outputs": [
    {
     "data": {
      "text/html": [
       "<div>\n",
       "<table border=\"1\" class=\"dataframe\">\n",
       "  <thead>\n",
       "    <tr style=\"text-align: right;\">\n",
       "      <th></th>\n",
       "      <th>Unnamed: 0</th>\n",
       "      <th>ico</th>\n",
       "      <th>tweetCount</th>\n",
       "      <th>outcome</th>\n",
       "    </tr>\n",
       "  </thead>\n",
       "  <tbody>\n",
       "    <tr>\n",
       "      <th>0</th>\n",
       "      <td>0</td>\n",
       "      <td>tezos</td>\n",
       "      <td>1671</td>\n",
       "      <td>successful</td>\n",
       "    </tr>\n",
       "    <tr>\n",
       "      <th>1</th>\n",
       "      <td>1</td>\n",
       "      <td>filecoin</td>\n",
       "      <td>1595</td>\n",
       "      <td>successful</td>\n",
       "    </tr>\n",
       "    <tr>\n",
       "      <th>2</th>\n",
       "      <td>2</td>\n",
       "      <td>bancor</td>\n",
       "      <td>1093</td>\n",
       "      <td>successful</td>\n",
       "    </tr>\n",
       "    <tr>\n",
       "      <th>3</th>\n",
       "      <td>3</td>\n",
       "      <td>iconomi</td>\n",
       "      <td>28</td>\n",
       "      <td>mid</td>\n",
       "    </tr>\n",
       "    <tr>\n",
       "      <th>4</th>\n",
       "      <td>4</td>\n",
       "      <td>exscudo</td>\n",
       "      <td>753</td>\n",
       "      <td>mid</td>\n",
       "    </tr>\n",
       "  </tbody>\n",
       "</table>\n",
       "</div>"
      ],
      "text/plain": [
       "   Unnamed: 0       ico  tweetCount     outcome\n",
       "0           0     tezos        1671  successful\n",
       "1           1  filecoin        1595  successful\n",
       "2           2    bancor        1093  successful\n",
       "3           3   iconomi          28         mid\n",
       "4           4   exscudo         753         mid"
      ]
     },
     "execution_count": 83,
     "metadata": {},
     "output_type": "execute_result"
    }
   ],
   "source": [
    "tweetCountdf = pd.read_csv(\"Tweet_Counts.csv\")\n",
    "tweetCountdf.head()"
   ]
  },
  {
   "cell_type": "code",
   "execution_count": null,
   "metadata": {
    "collapsed": false
   },
   "outputs": [
    {
     "data": {
      "image/png": "[encoded data removed]",
      "text/plain": [
       "<matplotlib.figure.Figure at 0x1eb0571f3c8>"
      ]
     },
     "metadata": {},
     "output_type": "display_data"
    }
   ],
   "source": [
    "#Plot histogram for ICO campaigns vs. Tweet Counts\n",
    "plt.title(\"ICO Campaign vs Number of Tweets while Campaign Active\")\n",
    "plt.xlabel(\"ICO Campaign\")\n",
    "plt.ylabel(\"Number of Tweets while Campaign Active\")\n",
    "\n",
    "x_axis = np.arange(0, 9)\n",
    "tick_locations = [x + 0.5 for x in x_axis]\n",
    "\n",
    "#Define the colors for the bars in the plot\n",
    "color = [\"gold\",\"lightskyblue\",\"lightcoral\"]\n",
    "\n",
    "#Plot the bar graph in iterations (so that the legend can appear appropriately)\n",
    "for i in color:\n",
    "    \n",
    "    if i == \"gold\":\n",
    "        legendLabel = \"Successful ICO\"\n",
    "        x =  np.arange(0,3) \n",
    "        #y = tweetCountdf.loc[tweetCountdf[\"outcome\"]== \"successful\", [\"tweetCount\"] ]\n",
    "        y = [tweetCountdf.iloc[0][2],tweetCountdf.iloc[1][2],tweetCountdf.iloc[2][2]]\n",
    "        #y = tweetCountdf.iloc[[0,1,2],[4]]\n",
    "\n",
    "    elif i == \"lightskyblue\":\n",
    "         legendLabel = \"Mid-successful ICO\"\n",
    "         x = np.arange(3,6)\n",
    "         #y = tweetCountdf.loc[tweetCountdf[\"outcome\"]== \"mid\", [\"tweetCount\"] ]\n",
    "         y = [tweetCountdf.iloc[3][2],tweetCountdf.iloc[4][2],tweetCountdf.iloc[5][2]]   \n",
    "        \n",
    "    else:\n",
    "        legendLabel = \"Failed ICO\"\n",
    "        x = np.arange(6,9) \n",
    "        #y = tweetCountdf.loc[tweetCountdf[\"outcome\"]== \"failed\", [\"tweetCount\"] ] \n",
    "        y = [tweetCountdf.iloc[6][2],tweetCountdf.iloc[7][2],tweetCountdf.iloc[8][2]]\n",
    "             \n",
    "    plt.bar(x, y, facecolor = i, alpha=1.0, linewidth = 1,label = legendLabel, align = \"edge\"  )   \n",
    "    plt.xticks(tick_locations, tweetCountdf[\"ico\"])\n",
    "\n",
    "plt.legend()\n",
    "plt.savefig(\"ICOvsNoOfTweets.png\")\n",
    "plt.show()   "
   ]
  },
  {
   "cell_type": "code",
   "execution_count": null,
   "metadata": {
    "collapsed": true
   },
   "outputs": [],
   "source": []
  }
 ],
 "metadata": {
  "kernelspec": {
   "display_name": "Python 3",
   "language": "python",
   "name": "python3"
  },
  "language_info": {
   "codemirror_mode": {
    "name": "ipython",
    "version": 3
   },
   "file_extension": ".py",
   "mimetype": "text/x-python",
   "name": "python",
   "nbconvert_exporter": "python",
   "pygments_lexer": "ipython3",
   "version": "3.6.0"
  }
 },
 "nbformat": 4,
 "nbformat_minor": 2
}
