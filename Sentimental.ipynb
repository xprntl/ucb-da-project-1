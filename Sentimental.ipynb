{
 "cells": [
  {
   "cell_type": "code",
   "execution_count": 70,
   "metadata": {
    "collapsed": true
   },
   "outputs": [],
   "source": [
    "import csv\n",
    "from textblob import TextBlob\n",
    "import pandas as pd\n",
    "import numpy as np\n",
    "import matplotlib.pyplot as plt"
   ]
  },
  {
   "cell_type": "code",
   "execution_count": 6,
   "metadata": {
    "collapsed": true
   },
   "outputs": [],
   "source": [
    "from vaderSentiment.vaderSentiment import SentimentIntensityAnalyzer\n",
    "analyzer = SentimentIntensityAnalyzer()"
   ]
  },
  {
   "cell_type": "code",
   "execution_count": 7,
   "metadata": {},
   "outputs": [],
   "source": [
    "File = pd.read_csv('text.csv')"
   ]
  },
  {
   "cell_type": "code",
   "execution_count": 11,
   "metadata": {},
   "outputs": [],
   "source": [
    "# File"
   ]
  },
  {
   "cell_type": "code",
   "execution_count": 10,
   "metadata": {},
   "outputs": [],
   "source": [
    "# File['Text']"
   ]
  },
  {
   "cell_type": "code",
   "execution_count": 57,
   "metadata": {},
   "outputs": [],
   "source": [
    "File[\"Compound\"] = \"\"\n",
    "File[\"Postivity\"] = \"\"\n",
    "File[\"Negativity\"] = \"\"\n",
    "File[\"Neutral\"] = \"\"\n",
    "File[\"Polarity\"] = \"\"\n",
    "File[\"Subjectivity\"] = \"\"\n",
    "\n",
    "del File['Polairty']"
   ]
  },
  {
   "cell_type": "code",
   "execution_count": 58,
   "metadata": {},
   "outputs": [
    {
     "data": {
      "text/html": [
       "<div>\n",
       "<style>\n",
       "    .dataframe thead tr:only-child th {\n",
       "        text-align: right;\n",
       "    }\n",
       "\n",
       "    .dataframe thead th {\n",
       "        text-align: left;\n",
       "    }\n",
       "\n",
       "    .dataframe tbody tr th {\n",
       "        vertical-align: top;\n",
       "    }\n",
       "</style>\n",
       "<table border=\"1\" class=\"dataframe\">\n",
       "  <thead>\n",
       "    <tr style=\"text-align: right;\">\n",
       "      <th></th>\n",
       "      <th>ICO</th>\n",
       "      <th>Tweet Count</th>\n",
       "      <th>Text</th>\n",
       "      <th>Compound</th>\n",
       "      <th>Postivity</th>\n",
       "      <th>Negativity</th>\n",
       "      <th>Neutral</th>\n",
       "      <th>Subjectivity</th>\n",
       "      <th>Polarity</th>\n",
       "    </tr>\n",
       "  </thead>\n",
       "  <tbody>\n",
       "    <tr>\n",
       "      <th>0</th>\n",
       "      <td>Filecoin</td>\n",
       "      <td>1</td>\n",
       "      <td>I like the filecoin</td>\n",
       "      <td></td>\n",
       "      <td></td>\n",
       "      <td></td>\n",
       "      <td></td>\n",
       "      <td></td>\n",
       "      <td></td>\n",
       "    </tr>\n",
       "    <tr>\n",
       "      <th>1</th>\n",
       "      <td>Filecoin</td>\n",
       "      <td>2</td>\n",
       "      <td>I hate the people</td>\n",
       "      <td></td>\n",
       "      <td></td>\n",
       "      <td></td>\n",
       "      <td></td>\n",
       "      <td></td>\n",
       "      <td></td>\n",
       "    </tr>\n",
       "    <tr>\n",
       "      <th>2</th>\n",
       "      <td>Filecoin</td>\n",
       "      <td>3</td>\n",
       "      <td>they are fake</td>\n",
       "      <td></td>\n",
       "      <td></td>\n",
       "      <td></td>\n",
       "      <td></td>\n",
       "      <td></td>\n",
       "      <td></td>\n",
       "    </tr>\n",
       "    <tr>\n",
       "      <th>3</th>\n",
       "      <td>Filecoin</td>\n",
       "      <td>4</td>\n",
       "      <td>I love the icecream</td>\n",
       "      <td></td>\n",
       "      <td></td>\n",
       "      <td></td>\n",
       "      <td></td>\n",
       "      <td></td>\n",
       "      <td></td>\n",
       "    </tr>\n",
       "    <tr>\n",
       "      <th>4</th>\n",
       "      <td>Bancor</td>\n",
       "      <td>1</td>\n",
       "      <td>I am mad at myself</td>\n",
       "      <td></td>\n",
       "      <td></td>\n",
       "      <td></td>\n",
       "      <td></td>\n",
       "      <td></td>\n",
       "      <td></td>\n",
       "    </tr>\n",
       "  </tbody>\n",
       "</table>\n",
       "</div>"
      ],
      "text/plain": [
       "        ICO  Tweet Count                 Text Compound Postivity Negativity  \\\n",
       "0  Filecoin            1  I like the filecoin                                 \n",
       "1  Filecoin            2    I hate the people                                 \n",
       "2  Filecoin            3        they are fake                                 \n",
       "3  Filecoin            4  I love the icecream                                 \n",
       "4    Bancor            1   I am mad at myself                                 \n",
       "\n",
       "  Neutral Subjectivity Polarity  \n",
       "0                                \n",
       "1                                \n",
       "2                                \n",
       "3                                \n",
       "4                                "
      ]
     },
     "execution_count": 58,
     "metadata": {},
     "output_type": "execute_result"
    }
   ],
   "source": [
    "File.head()"
   ]
  },
  {
   "cell_type": "code",
   "execution_count": 64,
   "metadata": {},
   "outputs": [
    {
     "name": "stdout",
     "output_type": "stream",
     "text": [
      "I like the filecoin\n",
      "Polarity:  0.0 Subjectivity:  0.0\n",
      "Compound:  0.3612 Positivity:  0.556 Neutral:  0.444 Negative:  0.0\n",
      "I hate the people\n",
      "Polarity:  -0.8 Subjectivity:  0.9\n",
      "Compound:  -0.5719 Positivity:  0.0 Neutral:  0.351 Negative:  0.649\n",
      "they are fake\n",
      "Polarity:  -0.5 Subjectivity:  1.0\n",
      "Compound:  -0.4767 Positivity:  0.0 Neutral:  0.392 Negative:  0.608\n",
      "I love the icecream\n",
      "Polarity:  0.5 Subjectivity:  0.6\n",
      "Compound:  0.6369 Positivity:  0.677 Neutral:  0.323 Negative:  0.0\n",
      "I am mad at myself\n",
      "Polarity:  -0.625 Subjectivity:  1.0\n",
      "Compound:  -0.4939 Positivity:  0.0 Neutral:  0.484 Negative:  0.516\n",
      "I am busy and got so much to work\n",
      "Polarity:  0.15000000000000002 Subjectivity:  0.25\n",
      "Compound:  0.0 Positivity:  0.0 Neutral:  1.0 Negative:  0.0\n",
      "I am not stupid\n",
      "Polarity:  0.39999999999999997 Subjectivity:  1.0\n",
      "Compound:  0.4168 Positivity:  0.581 Neutral:  0.419 Negative:  0.0\n",
      "are you crazy?\n",
      "Polarity:  -0.6 Subjectivity:  0.9\n",
      "Compound:  -0.34 Positivity:  0.0 Neutral:  0.455 Negative:  0.545\n"
     ]
    }
   ],
   "source": [
    "for index,row in File.iterrows():\n",
    "#     print(row)\n",
    "    sentence = row['Text']\n",
    "    print(sentence)\n",
    "    blob = TextBlob(sentence)\n",
    "    print(\"Polarity: \", blob.sentiment.polarity, \"Subjectivity: \",blob.sentiment.subjectivity)\n",
    "    compound = analyzer.polarity_scores(row['Text'])[\"compound\"]\n",
    "    pos = analyzer.polarity_scores(row['Text'])[\"pos\"]\n",
    "    neu = analyzer.polarity_scores(row['Text'])[\"neu\"]\n",
    "    neg = analyzer.polarity_scores(row['Text'])[\"neg\"]\n",
    "    print(\"Compound: \", compound, \"Positivity: \", pos, \"Neutral: \", neu, \"Negative: \",neg)\n",
    "    \n",
    "    \n",
    "    \n",
    "    \n",
    "    File.set_value(index, \"Polarity\", blob.sentiment.polarity)\n",
    "    File.set_value(index, \"Subjectivity\", blob.sentiment.subjectivity)\n",
    "    File.set_value(index, \"Compound\", compound)\n",
    "    File.set_value(index, \"Postivity\", pos)\n",
    "    File.set_value(index, \"Negativity\", neu)\n",
    "    File.set_value(index, \"Neutral\", neg)\n"
   ]
  },
  {
   "cell_type": "code",
   "execution_count": 65,
   "metadata": {},
   "outputs": [
    {
     "data": {
      "text/html": [
       "<div>\n",
       "<style>\n",
       "    .dataframe thead tr:only-child th {\n",
       "        text-align: right;\n",
       "    }\n",
       "\n",
       "    .dataframe thead th {\n",
       "        text-align: left;\n",
       "    }\n",
       "\n",
       "    .dataframe tbody tr th {\n",
       "        vertical-align: top;\n",
       "    }\n",
       "</style>\n",
       "<table border=\"1\" class=\"dataframe\">\n",
       "  <thead>\n",
       "    <tr style=\"text-align: right;\">\n",
       "      <th></th>\n",
       "      <th>ICO</th>\n",
       "      <th>Tweet Count</th>\n",
       "      <th>Text</th>\n",
       "      <th>Compound</th>\n",
       "      <th>Postivity</th>\n",
       "      <th>Negativity</th>\n",
       "      <th>Neutral</th>\n",
       "      <th>Subjectivity</th>\n",
       "      <th>Polarity</th>\n",
       "    </tr>\n",
       "  </thead>\n",
       "  <tbody>\n",
       "    <tr>\n",
       "      <th>0</th>\n",
       "      <td>Filecoin</td>\n",
       "      <td>1</td>\n",
       "      <td>I like the filecoin</td>\n",
       "      <td>0.3612</td>\n",
       "      <td>0.556</td>\n",
       "      <td>0.444</td>\n",
       "      <td>0</td>\n",
       "      <td>0</td>\n",
       "      <td>0</td>\n",
       "    </tr>\n",
       "    <tr>\n",
       "      <th>1</th>\n",
       "      <td>Filecoin</td>\n",
       "      <td>2</td>\n",
       "      <td>I hate the people</td>\n",
       "      <td>-0.5719</td>\n",
       "      <td>0</td>\n",
       "      <td>0.351</td>\n",
       "      <td>0.649</td>\n",
       "      <td>0.9</td>\n",
       "      <td>-0.8</td>\n",
       "    </tr>\n",
       "    <tr>\n",
       "      <th>2</th>\n",
       "      <td>Filecoin</td>\n",
       "      <td>3</td>\n",
       "      <td>they are fake</td>\n",
       "      <td>-0.4767</td>\n",
       "      <td>0</td>\n",
       "      <td>0.392</td>\n",
       "      <td>0.608</td>\n",
       "      <td>1</td>\n",
       "      <td>-0.5</td>\n",
       "    </tr>\n",
       "    <tr>\n",
       "      <th>3</th>\n",
       "      <td>Filecoin</td>\n",
       "      <td>4</td>\n",
       "      <td>I love the icecream</td>\n",
       "      <td>0.6369</td>\n",
       "      <td>0.677</td>\n",
       "      <td>0.323</td>\n",
       "      <td>0</td>\n",
       "      <td>0.6</td>\n",
       "      <td>0.5</td>\n",
       "    </tr>\n",
       "    <tr>\n",
       "      <th>4</th>\n",
       "      <td>Bancor</td>\n",
       "      <td>1</td>\n",
       "      <td>I am mad at myself</td>\n",
       "      <td>-0.4939</td>\n",
       "      <td>0</td>\n",
       "      <td>0.484</td>\n",
       "      <td>0.516</td>\n",
       "      <td>1</td>\n",
       "      <td>-0.625</td>\n",
       "    </tr>\n",
       "    <tr>\n",
       "      <th>5</th>\n",
       "      <td>Bancor</td>\n",
       "      <td>2</td>\n",
       "      <td>I am busy and got so much to work</td>\n",
       "      <td>0</td>\n",
       "      <td>0</td>\n",
       "      <td>1</td>\n",
       "      <td>0</td>\n",
       "      <td>0.25</td>\n",
       "      <td>0.15</td>\n",
       "    </tr>\n",
       "    <tr>\n",
       "      <th>6</th>\n",
       "      <td>Bancor</td>\n",
       "      <td>3</td>\n",
       "      <td>I am not stupid</td>\n",
       "      <td>0.4168</td>\n",
       "      <td>0.581</td>\n",
       "      <td>0.419</td>\n",
       "      <td>0</td>\n",
       "      <td>1</td>\n",
       "      <td>0.4</td>\n",
       "    </tr>\n",
       "    <tr>\n",
       "      <th>7</th>\n",
       "      <td>Bancor</td>\n",
       "      <td>4</td>\n",
       "      <td>are you crazy?</td>\n",
       "      <td>-0.34</td>\n",
       "      <td>0</td>\n",
       "      <td>0.455</td>\n",
       "      <td>0.545</td>\n",
       "      <td>0.9</td>\n",
       "      <td>-0.6</td>\n",
       "    </tr>\n",
       "  </tbody>\n",
       "</table>\n",
       "</div>"
      ],
      "text/plain": [
       "        ICO  Tweet Count                               Text Compound  \\\n",
       "0  Filecoin            1                I like the filecoin   0.3612   \n",
       "1  Filecoin            2                  I hate the people  -0.5719   \n",
       "2  Filecoin            3                      they are fake  -0.4767   \n",
       "3  Filecoin            4                I love the icecream   0.6369   \n",
       "4    Bancor            1                 I am mad at myself  -0.4939   \n",
       "5    Bancor            2  I am busy and got so much to work        0   \n",
       "6    Bancor            3                    I am not stupid   0.4168   \n",
       "7    Bancor            4                     are you crazy?    -0.34   \n",
       "\n",
       "  Postivity Negativity Neutral Subjectivity Polarity  \n",
       "0     0.556      0.444       0            0        0  \n",
       "1         0      0.351   0.649          0.9     -0.8  \n",
       "2         0      0.392   0.608            1     -0.5  \n",
       "3     0.677      0.323       0          0.6      0.5  \n",
       "4         0      0.484   0.516            1   -0.625  \n",
       "5         0          1       0         0.25     0.15  \n",
       "6     0.581      0.419       0            1      0.4  \n",
       "7         0      0.455   0.545          0.9     -0.6  "
      ]
     },
     "execution_count": 65,
     "metadata": {},
     "output_type": "execute_result"
    }
   ],
   "source": [
    "File"
   ]
  },
  {
   "cell_type": "code",
   "execution_count": 75,
   "metadata": {},
   "outputs": [
    {
     "data": {
      "image/png": "[encoded data removed]",
      "text/plain": [
       "<matplotlib.figure.Figure at 0x2bb6bade588>"
      ]
     },
     "metadata": {},
     "output_type": "display_data"
    }
   ],
   "source": [
    "plt.scatter(File['Polarity'], File['Subjectivity'], s=100)\n",
    "plt.xlabel('Tweet polarity')\n",
    "plt.ylabel('Tweet subjectivity')\n",
    "# plt.xlim(-1.1, 1.1)\n",
    "# plt.ylim(-0.1, 1.1)\n",
    "plt.show()"
   ]
  },
  {
   "cell_type": "code",
   "execution_count": 78,
   "metadata": {},
   "outputs": [
    {
     "data": {
      "image/png": "[encoded data removed]",
      "text/plain": [
       "<matplotlib.figure.Figure at 0x2bb6c12f470>"
      ]
     },
     "metadata": {},
     "output_type": "display_data"
    }
   ],
   "source": [
    "# Create plot\n",
    "plt.plot(np.arange(len(File[\"Compound\"])),\n",
    "         File[\"Compound\"], marker=\"o\", linewidth=0.5,\n",
    "         alpha=0.8)\n",
    "\n",
    "# # Incorporate the other graph properties\n",
    "plt.title(\"Sentiment Analysis of Tweets\")\n",
    "plt.ylabel(\"Tweet Compound\")\n",
    "plt.xlabel(\"Tweet Number\")\n",
    "plt.show()"
   ]
  },
  {
   "cell_type": "code",
   "execution_count": 83,
   "metadata": {},
   "outputs": [
    {
     "data": {
      "image/png": "[encoded data removed]",
      "text/plain": [
       "<matplotlib.figure.Figure at 0x2bb6c2ba9e8>"
      ]
     },
     "metadata": {},
     "output_type": "display_data"
    }
   ],
   "source": [
    "positive_polarity = [p for p in File['Postivity'] if p>0.5]\n",
    "negative_polarity = [n for n in File['Negativity'] if n<0.5]\n",
    "neutral_polarity = [r for r in File['Neutral'] if r==0]\n",
    "\n",
    "\n",
    "total_size = len(positive_polarity) + len(negative_polarity) + len(neutral_polarity)\n",
    "n_size = len(negative_polarity)/total_size\n",
    "p_size = len(positive_polarity)/total_size\n",
    "r_size = len(neutral_polarity)/total_size\n",
    "\n",
    "\n",
    "labels = ['Neutral tweets', 'Positive tweets', 'Negative tweets']\n",
    "sizes = [r_size, p_size, n_size]\n",
    "fig1, ax1 = plt.subplots()\n",
    "ax1.pie(sizes, labels=labels, autopct='%1.1f%%',\n",
    "        shadow=True, startangle=90)\n",
    "ax1.axis('equal')\n",
    "plt.show()"
   ]
  },
  {
   "cell_type": "code",
   "execution_count": null,
   "metadata": {
    "collapsed": true
   },
   "outputs": [],
   "source": []
  }
 ],
 "metadata": {
  "kernelspec": {
   "display_name": "Python 3",
   "language": "python",
   "name": "python3"
  },
  "language_info": {
   "codemirror_mode": {
    "name": "ipython",
    "version": 3
   },
   "file_extension": ".py",
   "mimetype": "text/x-python",
   "name": "python",
   "nbconvert_exporter": "python",
   "pygments_lexer": "ipython3",
   "version": "3.6.1"
  }
 },
 "nbformat": 4,
 "nbformat_minor": 2
}
