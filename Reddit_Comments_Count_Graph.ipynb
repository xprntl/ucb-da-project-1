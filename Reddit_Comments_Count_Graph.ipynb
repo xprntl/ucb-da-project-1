{
 "cells": [
  {
   "cell_type": "code",
   "execution_count": 23,
   "metadata": {
    "collapsed": true
   },
   "outputs": [],
   "source": [
    "#This program plots a bar graph of ICO Campaigns vs Number of comments on relevant subreddits for each campaign\n",
    "#It also saves the bar graph into a png file titled \"ICOvsRedditComments.png\".\n",
    "#The input file \"Reddit_Comment_Counts.csv\" which holds the names of the ico campaign and tweet coumts for each, should reside in\n",
    "#in the same folder as this program."
   ]
  },
  {
   "cell_type": "code",
   "execution_count": 24,
   "metadata": {
    "collapsed": false
   },
   "outputs": [],
   "source": [
    "import matplotlib.pyplot as plt\n",
    "import pandas as pd\n",
    "import numpy as np"
   ]
  },
  {
   "cell_type": "code",
   "execution_count": 25,
   "metadata": {
    "collapsed": false
   },
   "outputs": [
    {
     "data": {
      "text/html": [
       "<div>\n",
       "<style>\n",
       "    .dataframe thead tr:only-child th {\n",
       "        text-align: right;\n",
       "    }\n",
       "\n",
       "    .dataframe thead th {\n",
       "        text-align: left;\n",
       "    }\n",
       "\n",
       "    .dataframe tbody tr th {\n",
       "        vertical-align: top;\n",
       "    }\n",
       "</style>\n",
       "<table border=\"1\" class=\"dataframe\">\n",
       "  <thead>\n",
       "    <tr style=\"text-align: right;\">\n",
       "      <th></th>\n",
       "      <th>Unnamed: 0</th>\n",
       "      <th>ico</th>\n",
       "      <th>tweetCount</th>\n",
       "    </tr>\n",
       "  </thead>\n",
       "  <tbody>\n",
       "    <tr>\n",
       "      <th>0</th>\n",
       "      <td>0</td>\n",
       "      <td>tezos</td>\n",
       "      <td>1143</td>\n",
       "    </tr>\n",
       "    <tr>\n",
       "      <th>1</th>\n",
       "      <td>1</td>\n",
       "      <td>filecoin</td>\n",
       "      <td>1066</td>\n",
       "    </tr>\n",
       "    <tr>\n",
       "      <th>2</th>\n",
       "      <td>2</td>\n",
       "      <td>bancor</td>\n",
       "      <td>994</td>\n",
       "    </tr>\n",
       "    <tr>\n",
       "      <th>3</th>\n",
       "      <td>3</td>\n",
       "      <td>iconomi</td>\n",
       "      <td>1302</td>\n",
       "    </tr>\n",
       "    <tr>\n",
       "      <th>4</th>\n",
       "      <td>4</td>\n",
       "      <td>exscudo</td>\n",
       "      <td>69</td>\n",
       "    </tr>\n",
       "  </tbody>\n",
       "</table>\n",
       "</div>"
      ],
      "text/plain": [
       "   Unnamed: 0       ico  tweetCount\n",
       "0           0     tezos        1143\n",
       "1           1  filecoin        1066\n",
       "2           2    bancor         994\n",
       "3           3   iconomi        1302\n",
       "4           4   exscudo          69"
      ]
     },
     "execution_count": 25,
     "metadata": {},
     "output_type": "execute_result"
    }
   ],
   "source": [
    "CommentsCountdf = pd.read_csv(\"Reddit_Comments_Count.csv\")\n",
    "CommentsCountdf.head()"
   ]
  },
  {
   "cell_type": "code",
   "execution_count": 35,
   "metadata": {
    "collapsed": false
   },
   "outputs": [
    {
     "data": {
      "image/png": "[encoded data removed]",
      "text/plain": [
       "<matplotlib.figure.Figure at 0x108de7d68>"
      ]
     },
     "metadata": {},
     "output_type": "display_data"
    }
   ],
   "source": [
    "#Plot histogram for ICO campaigns vs. Tweet Counts\n",
    "plt.title(\"ICO Campaign vs Number of Reddit Comments\")\n",
    "plt.xlabel(\"ICO Campaign\")\n",
    "plt.ylabel(\"Number of Reddit Comments\")\n",
    "\n",
    "x_axis = np.arange(0, 9)\n",
    "tick_locations = [x + 0.5 for x in x_axis]\n",
    "\n",
    "#Define the colors for the bars in the plot\n",
    "color = [\"gold\",\"lightskyblue\",\"lightcoral\"]\n",
    "\n",
    "#Plot the bar graph in iterations (so that the legend can appear appropriately)\n",
    "for i in color:\n",
    "    \n",
    "    if i == \"gold\":\n",
    "        legendLabel = \"Successful ICO\"\n",
    "        x =  np.arange(0,3) \n",
    "        #y = CommentsCountdf.loc[CommentsCountdf[\"outcome\"]== \"successful\", [\"CommentsCount\"] ]\n",
    "        y = [CommentsCountdf.iloc[0][2],CommentsCountdf.iloc[1][2],CommentsCountdf.iloc[2][2]]\n",
    "        #y = CommentsCountdf.iloc[[0,1,2],[4]]\n",
    "\n",
    "    elif i == \"lightskyblue\":\n",
    "         legendLabel = \"Mid-successful ICO\"\n",
    "         x = np.arange(3,6)\n",
    "         #y = CommentsCountdf.loc[CommentsCountdf[\"outcome\"]== \"mid\", [\"CommentsCount\"] ]\n",
    "         y = [CommentsCountdf.iloc[3][2],CommentsCountdf.iloc[4][2],CommentsCountdf.iloc[5][2]]   \n",
    "        \n",
    "    else:\n",
    "        legendLabel = \"Failed ICO\"\n",
    "        x = np.arange(6,9) \n",
    "        #y = CommentsCountdf.loc[CommentsCountdf[\"outcome\"]== \"failed\", [\"CommentsCount\"] ] \n",
    "        y = [CommentsCountdf.iloc[6][2],CommentsCountdf.iloc[7][2],CommentsCountdf.iloc[8][2]]\n",
    "      \n",
    "               \n",
    "    plt.bar(x, y, facecolor = i, alpha=1.0, linewidth = 1,label = legendLabel, align = \"edge\"  )   \n",
    "    plt.xticks(tick_locations, CommentsCountdf[\"ico\"])\n",
    "\n",
    "plt.legend()\n",
    "plt.savefig(\"Reddit_Comments_Graph.png\")\n",
    "plt.show()   "
   ]
  },
  {
   "cell_type": "code",
   "execution_count": null,
   "metadata": {
    "collapsed": true
   },
   "outputs": [],
   "source": []
  }
 ],
 "metadata": {
  "kernelspec": {
   "display_name": "Python 3",
   "language": "python",
   "name": "python3"
  },
  "language_info": {
   "codemirror_mode": {
    "name": "ipython",
    "version": 3
   },
   "file_extension": ".py",
   "mimetype": "text/x-python",
   "name": "python",
   "nbconvert_exporter": "python",
   "pygments_lexer": "ipython3",
   "version": "3.6.1"
  }
 },
 "nbformat": 4,
 "nbformat_minor": 2
}
